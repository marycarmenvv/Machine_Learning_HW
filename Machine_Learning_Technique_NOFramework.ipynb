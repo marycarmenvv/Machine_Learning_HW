{
  "nbformat": 4,
  "nbformat_minor": 0,
  "metadata": {
    "colab": {
      "name": "Untitled6.ipynb",
      "provenance": [],
      "include_colab_link": true
    },
    "kernelspec": {
      "name": "python3",
      "display_name": "Python 3"
    },
    "language_info": {
      "name": "python"
    }
  },
  "cells": [
    {
      "cell_type": "markdown",
      "metadata": {
        "id": "view-in-github",
        "colab_type": "text"
      },
      "source": [
        "<a href=\"https://colab.research.google.com/github/marycarmenvv/Machine_Learning_HW/blob/main/Machine_Learning_Technique_NOFramework.ipynb\" target=\"_parent\"><img src=\"https://colab.research.google.com/assets/colab-badge.svg\" alt=\"Open In Colab\"/></a>"
      ]
    },
    {
      "cell_type": "markdown",
      "source": [
        "# **Maria del Carmen Vargas Villarreal A00828570**"
      ],
      "metadata": {
        "id": "aW2olv9HDIKF"
      }
    },
    {
      "cell_type": "markdown",
      "source": [
        "**Momento de Retroalimentación: Módulo 2 Implementación de una técnica de aprendizaje máquina sin el uso de un framework. (Portafolio Implementación)**\n"
      ],
      "metadata": {
        "id": "dYaFvBW2DS0k"
      }
    },
    {
      "cell_type": "markdown",
      "source": [
        "Módulo: 2. Aprendizaje máquina (automático). sem 3"
      ],
      "metadata": {
        "id": "NjuNexOODq9R"
      }
    },
    {
      "cell_type": "markdown",
      "source": [
        "# Implementación de Regresión Logística"
      ],
      "metadata": {
        "id": "1a0zqTifDyvw"
      }
    },
    {
      "cell_type": "markdown",
      "source": [],
      "metadata": {
        "id": "1nVxKmFXDawb"
      }
    },
    {
      "cell_type": "code",
      "execution_count": 1,
      "metadata": {
        "id": "Jj19xMwqwnBv",
        "colab": {
          "base_uri": "https://localhost:8080/"
        },
        "outputId": "7e3693de-bdda-4bad-8655-6752f433bf36"
      },
      "outputs": [
        {
          "output_type": "stream",
          "name": "stdout",
          "text": [
            "hola\n"
          ]
        }
      ],
      "source": []
    }
  ]
}